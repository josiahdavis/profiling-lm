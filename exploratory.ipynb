{
 "cells": [
  {
   "cell_type": "code",
   "execution_count": 1,
   "metadata": {},
   "outputs": [],
   "source": [
    "import math\n",
    "import torch\n",
    "import torch.nn as nn\n",
    "import torch.nn.functional as F"
   ]
  },
  {
   "cell_type": "code",
   "execution_count": 2,
   "metadata": {},
   "outputs": [],
   "source": [
    "class PositionalEncoding(nn.Module):\n",
    "    def __init__(self, d_model, seq_len, dropout=0.1):\n",
    "        super(PositionalEncoding, self).__init__()\n",
    "        self.dropout = nn.Dropout(p=dropout)\n",
    "        self.position = torch.arange(0, seq_len)\n",
    "        self.emb = nn.Embedding(seq_len, d_model)\n",
    "\n",
    "    def forward(self, x):\n",
    "        x = x + self.emb(self.position).unsqueeze(1) # broadcasting across batches\n",
    "        return self.dropout(x)"
   ]
  },
  {
   "cell_type": "code",
   "execution_count": 3,
   "metadata": {},
   "outputs": [],
   "source": [
    "seq_len=10\n",
    "bs=4\n",
    "embed_dim=6\n",
    "x = torch.randn(size=(seq_len, bs, embed_dim))"
   ]
  },
  {
   "cell_type": "code",
   "execution_count": 4,
   "metadata": {},
   "outputs": [
    {
     "name": "stdout",
     "output_type": "stream",
     "text": [
      "x=tensor([[-1.3666, -0.9245, -1.1971, -1.0691, -0.0745, -1.1086],\n",
      "        [-1.4757, -0.6124, -0.3600, -0.3302, -2.2309,  0.7564],\n",
      "        [-1.2283,  0.1618,  1.1980, -0.3296,  0.0476,  1.2692],\n",
      "        [-2.5438,  0.0488, -0.8552, -0.5329, -0.4584,  1.2226]])torch.Size([10, 4, 6])\n",
      "embedding.shape=torch.Size([10, 1, 6])\n",
      "x=tensor([[ 0.2638, -1.4541, -1.7296, -1.3162, -0.1708, -0.9043],\n",
      "        [ 0.1547, -1.1419, -0.8926, -0.5773, -2.3271,  0.9607],\n",
      "        [ 0.4021, -0.3677,  0.6655, -0.5767, -0.0487,  1.4735],\n",
      "        [-0.9134, -0.4807, -1.3877, -0.7800, -0.5546,  1.4269]],\n",
      "       grad_fn=<SliceBackward>)torch.Size([10, 4, 6])\n"
     ]
    }
   ],
   "source": [
    "pe = PositionalEncoding(d_model=embed_dim, seq_len=seq_len)\n",
    "output = pe(x)"
   ]
  },
  {
   "cell_type": "code",
   "execution_count": 72,
   "metadata": {},
   "outputs": [],
   "source": [
    "class TransformerModel(nn.Module):\n",
    "    def __init__(self, ntoken, ninp, nhead, nhid, nlayers, seq_len, dropout=0.5):\n",
    "        super(TransformerModel, self).__init__()\n",
    "        self.src_mask = None\n",
    "        self.dropout = nn.Dropout(p=dropout)\n",
    "        encoder_layers = nn.TransformerEncoderLayer(ninp, nhead, nhid, dropout)\n",
    "        self.transformer_encoder = nn.TransformerEncoder(encoder_layers, nlayers)\n",
    "        self.pos_encoder = nn.Embedding(seq_len, ninp)\n",
    "        self.word_encoder = nn.Embedding(ntoken, ninp)\n",
    "        self.ninp = ninp\n",
    "        self.decoder = nn.Linear(ninp, ntoken)\n",
    "        self.init_weights()\n",
    "        self.position = torch.arange(0, seq_len).unsqueeze(1)\n",
    "\n",
    "    def _generate_square_subsequent_mask(self, sz):\n",
    "        mask = (torch.triu(torch.ones(sz, sz)) == 1).transpose(0, 1)\n",
    "        mask = mask.float().masked_fill(mask == 0, float('-inf')).masked_fill(mask == 1, float(0.0))\n",
    "        return mask\n",
    "\n",
    "    def init_weights(self):\n",
    "        initrange = 0.1\n",
    "        self.word_encoder.weight.data.uniform_(-initrange, initrange)\n",
    "        self.decoder.bias.data.zero_()\n",
    "        self.decoder.weight.data.uniform_(-initrange, initrange)\n",
    "\n",
    "    def forward(self, src, has_mask=True):\n",
    "        print(f'has_mask=={has_mask}')\n",
    "        if has_mask:\n",
    "            device = src.device\n",
    "            if self.src_mask is None or self.src_mask.size(0) != len(src):\n",
    "                mask = self._generate_square_subsequent_mask(len(src)).to(device)\n",
    "                self.src_mask = mask\n",
    "        else:\n",
    "            self.src_mask = None\n",
    "        word_emb = self.word_encoder(src) * math.sqrt(self.ninp)\n",
    "        print(word_emb.shape)\n",
    "        pos_emb = self.pos_encoder(self.position) #.unsqueeze(1)\n",
    "        print(pos_emb.shape)\n",
    "        \n",
    "        src = self.dropout(word_emb + pos_emb)\n",
    "        output = self.transformer_encoder(src, self.src_mask)\n",
    "        output = self.decoder(output)\n",
    "        return F.log_softmax(output, dim=-1)"
   ]
  },
  {
   "cell_type": "code",
   "execution_count": 73,
   "metadata": {},
   "outputs": [],
   "source": [
    "ntoken = 1000\n",
    "lm = TransformerModel(ntoken=ntoken, ninp=6, nhead=2, nhid=10, nlayers=1, seq_len=10)"
   ]
  },
  {
   "cell_type": "code",
   "execution_count": 74,
   "metadata": {},
   "outputs": [],
   "source": [
    "x2 = torch.randint(high=ntoken, size=(seq_len, bs))"
   ]
  },
  {
   "cell_type": "code",
   "execution_count": 75,
   "metadata": {},
   "outputs": [
    {
     "data": {
      "text/plain": [
       "torch.Size([10, 4])"
      ]
     },
     "execution_count": 75,
     "metadata": {},
     "output_type": "execute_result"
    }
   ],
   "source": [
    "x2.shape"
   ]
  },
  {
   "cell_type": "code",
   "execution_count": 76,
   "metadata": {},
   "outputs": [
    {
     "name": "stdout",
     "output_type": "stream",
     "text": [
      "has_mask==True\n",
      "torch.Size([10, 4, 6])\n",
      "torch.Size([10, 1, 6])\n"
     ]
    },
    {
     "data": {
      "text/plain": [
       "torch.Size([10, 4, 1000])"
      ]
     },
     "execution_count": 76,
     "metadata": {},
     "output_type": "execute_result"
    }
   ],
   "source": [
    "lm(x2).shape"
   ]
  },
  {
   "cell_type": "code",
   "execution_count": 67,
   "metadata": {},
   "outputs": [
    {
     "data": {
      "text/plain": [
       "torch.Size([10, 1])"
      ]
     },
     "execution_count": 67,
     "metadata": {},
     "output_type": "execute_result"
    }
   ],
   "source": [
    "torch.arange(0, 10).unsqueeze(1).shape"
   ]
  },
  {
   "cell_type": "code",
   "execution_count": null,
   "metadata": {},
   "outputs": [],
   "source": []
  }
 ],
 "metadata": {
  "kernelspec": {
   "display_name": "Environment (conda_pytorch_p36)",
   "language": "python",
   "name": "conda_pytorch_p36"
  },
  "language_info": {
   "codemirror_mode": {
    "name": "ipython",
    "version": 3
   },
   "file_extension": ".py",
   "mimetype": "text/x-python",
   "name": "python",
   "nbconvert_exporter": "python",
   "pygments_lexer": "ipython3",
   "version": "3.6.5"
  }
 },
 "nbformat": 4,
 "nbformat_minor": 2
}
